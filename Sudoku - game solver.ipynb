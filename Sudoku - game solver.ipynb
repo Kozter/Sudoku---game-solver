{
 "cells": [
  {
   "cell_type": "markdown",
   "metadata": {
    "collapsed": true,
    "pycharm": {
     "name": "#%% md\n"
    }
   },
   "source": [
    "# Project:\n",
    "## Sudoku - game solver"
   ]
  },
  {
   "cell_type": "code",
   "execution_count": 15,
   "outputs": [
    {
     "name": "stdout",
     "output_type": "stream",
     "text": [
      "Current Sudoku challenge:\n",
      "\n",
      "8 0 0  | 0 0 0  | 0 0 0\n",
      "0 0 3  | 6 0 0  | 0 0 0\n",
      "0 7 0  | 0 9 0  | 2 0 0\n",
      "- - - - - - - - - - - - \n",
      "0 5 0  | 0 0 7  | 0 0 0\n",
      "0 0 0  | 0 4 5  | 7 0 0\n",
      "0 0 0  | 1 0 0  | 0 3 0\n",
      "- - - - - - - - - - - - \n",
      "0 0 1  | 0 0 0  | 0 6 8\n",
      "0 0 8  | 5 0 0  | 0 1 0\n",
      "0 9 0  | 0 0 0  | 4 0 0\n",
      "\n",
      "_______________________\n",
      "\n",
      "Solved Sudoku challenge:\n",
      "\n",
      "8 1 2  | 7 5 3  | 6 4 9\n",
      "9 4 3  | 6 8 2  | 1 7 5\n",
      "6 7 5  | 4 9 1  | 2 8 3\n",
      "- - - - - - - - - - - - \n",
      "1 5 4  | 2 3 7  | 8 9 6\n",
      "3 6 9  | 8 4 5  | 7 2 1\n",
      "2 8 7  | 1 6 9  | 5 3 4\n",
      "- - - - - - - - - - - - \n",
      "5 2 1  | 9 7 4  | 3 6 8\n",
      "4 3 8  | 5 2 6  | 9 1 7\n",
      "7 9 6  | 3 1 8  | 4 5 2\n"
     ]
    }
   ],
   "source": [
    "# Our sodoku board\n",
    "sudoku_board = [\n",
    "    [8,0,0,0,0,0,0,0,0],\n",
    "    [0,0,3,6,0,0,0,0,0],\n",
    "    [0,7,0,0,9,0,2,0,0],\n",
    "    [0,5,0,0,0,7,0,0,0],\n",
    "    [0,0,0,0,4,5,7,0,0],\n",
    "    [0,0,0,1,0,0,0,3,0],\n",
    "    [0,0,1,0,0,0,0,6,8],\n",
    "    [0,0,8,5,0,0,0,1,0],\n",
    "    [0,9,0,0,0,0,4,0,0]\n",
    "]\n",
    "\n",
    "\n",
    "def solve(board):\n",
    "    find = find_empty(board)\n",
    "    if not find:\n",
    "        return True\n",
    "    else:\n",
    "        row, col = find\n",
    "\n",
    "    for i in range(1,10):\n",
    "        if valid(board, i, (row, col)):\n",
    "            board[row][col] = i\n",
    "\n",
    "            if solve(board):\n",
    "                return True\n",
    "\n",
    "            board[row][col] = 0\n",
    "\n",
    "    return False\n",
    "\n",
    "\n",
    "def valid(board, num, pos):\n",
    "    # Check row\n",
    "    for i in range(len(board[0])):\n",
    "        if board[pos[0]][i] == num and pos[1] != i:\n",
    "            return False\n",
    "\n",
    "    # Check column\n",
    "    for i in range(len(board)):\n",
    "        if board[i][pos[1]] == num and pos[0] != i:\n",
    "            return False\n",
    "\n",
    "    # Check box\n",
    "    box_x = pos[1] // 3\n",
    "    box_y = pos[0] // 3\n",
    "\n",
    "    for i in range(box_y*3, box_y*3 + 3):\n",
    "        for j in range(box_x * 3, box_x*3 + 3):\n",
    "            if board[i][j] == num and (i,j) != pos:\n",
    "                return False\n",
    "\n",
    "    return True\n",
    "\n",
    "\n",
    "def print_board(board):\n",
    "    for i in range(len(board)):\n",
    "        if i % 3 == 0 and i != 0:\n",
    "            print(\"- - - - - - - - - - - - \")\n",
    "\n",
    "        for j in range(len(board[0])):\n",
    "            if j % 3 == 0 and j != 0:\n",
    "                print(\" | \", end=\"\")\n",
    "\n",
    "            if j == 8:\n",
    "                print(board[i][j])\n",
    "            else:\n",
    "                print(str(board[i][j]) + \" \", end=\"\")\n",
    "\n",
    "\n",
    "def find_empty(board):\n",
    "    for i in range(len(board)):\n",
    "        for j in range(len(board[0])):\n",
    "            if board[i][j] == 0:\n",
    "                return (i, j)  # row, col\n",
    "\n",
    "    return None\n",
    "\n",
    "print(\"Current Sudoku challenge:\\n\")\n",
    "print_board(sudoku_board)\n",
    "solve(sudoku_board)\n",
    "print(\"\\n_______________________\\n\")\n",
    "print(\"Solved Sudoku challenge:\\n\")\n",
    "print_board(sudoku_board)"
   ],
   "metadata": {
    "collapsed": false,
    "pycharm": {
     "name": "#%%\n"
    }
   }
  }
 ],
 "metadata": {
  "kernelspec": {
   "display_name": "Python 3",
   "language": "python",
   "name": "python3"
  },
  "language_info": {
   "codemirror_mode": {
    "name": "ipython",
    "version": 2
   },
   "file_extension": ".py",
   "mimetype": "text/x-python",
   "name": "python",
   "nbconvert_exporter": "python",
   "pygments_lexer": "ipython2",
   "version": "2.7.6"
  }
 },
 "nbformat": 4,
 "nbformat_minor": 0
}